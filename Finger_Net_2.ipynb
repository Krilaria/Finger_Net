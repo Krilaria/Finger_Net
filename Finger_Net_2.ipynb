{
  "nbformat": 4,
  "nbformat_minor": 0,
  "metadata": {
    "colab": {
      "provenance": []
    },
    "kernelspec": {
      "name": "python3",
      "display_name": "Python 3"
    },
    "language_info": {
      "name": "python"
    }
  },
  "cells": [
    {
      "cell_type": "markdown",
      "source": [
        "Функция, принимающая на вход размер экрана и финальные координаты. Реализована автоматическая генерация скриптов и их запаковка в zip-архив."
      ],
      "metadata": {
        "id": "YC-krRgrXSH_"
      }
    },
    {
      "cell_type": "code",
      "execution_count": 1,
      "metadata": {
        "id": "Pj_ujfoLXE7H"
      },
      "outputs": [],
      "source": [
        "import json\n",
        "import random\n",
        "import time\n",
        "import os\n",
        "from zipfile import ZipFile"
      ]
    },
    {
      "cell_type": "code",
      "source": [
        "def move_to_coordinates_1(data, output_file, screen_width = 700, screen_height = 700, button_x = 510, button_y = 28):\n",
        "    # Получаем координаты \"пальца\" (курсора) в начале траектории (случайная точка на экране)\n",
        "    start_x = random.randint(0, screen_width)\n",
        "    start_y = random.randint(0, screen_height)\n",
        "\n",
        "    # Создаем список для хранения точек траектории\n",
        "    trajectory = []\n",
        "    click_1 = []\n",
        "\n",
        "    # Добавляем начальные координаты курсора в траекторию\n",
        "    trajectory.append({\"left\": start_x, \"top\": start_y})\n",
        "\n",
        "    # Добавляем промежуточные точки траектории (плавное перемещение)\n",
        "    num_intermediate_points = 42\n",
        "    for i in range(1, num_intermediate_points):\n",
        "        # Вычисляем промежуточные координаты\n",
        "        intermediate_x = int(start_x + (button_x - start_x) * i / num_intermediate_points)\n",
        "        intermediate_y = int(start_y + (button_y - start_y) * i / num_intermediate_points)\n",
        "        trajectory.append({\"left\": intermediate_x, \"top\": intermediate_y})\n",
        "\n",
        "    # Добавляем координаты кнопки в траекторию\n",
        "    trajectory.append({\"left\": button_x, \"top\": button_y})\n",
        "\n",
        "    # Добавляем полученную траекторию в существующий отчет\n",
        "    data['events']['mouseMove'] = trajectory\n",
        "\n",
        "    data['duration'] = data['interval'] * num_intermediate_points + 500\n",
        "\n",
        "    click_1.append({\"time\": data['duration'] - 100,\"x\": button_x, \"y\": button_y})\n",
        "\n",
        "    # Добавляем клик по последним координатам в существующий отчет\n",
        "    data['events']['clicks'] = click_1\n",
        "\n",
        "    return data"
      ],
      "metadata": {
        "id": "RA_TmPyQXXGu"
      },
      "execution_count": 2,
      "outputs": []
    },
    {
      "cell_type": "code",
      "source": [
        "data = {'interval': 30,\n",
        " 'duration': 1700,\n",
        " 'clientInfo': {},\n",
        " 'events': {\n",
        "    'mouseMove': [],\n",
        "    'clicks': [],\n",
        "    'scrolls': [],\n",
        "    'taps': [],\n",
        "    'touches': []}}"
      ],
      "metadata": {
        "id": "AdUGk6GcXY1R"
      },
      "execution_count": 3,
      "outputs": []
    },
    {
      "cell_type": "code",
      "source": [
        "# Указываем требуемое количество скриптов\n",
        "Scripts_amount = 15\n",
        "start = time()\n",
        "for i in range(Scripts_amount):\n",
        "# Генерируем траекторию курсора до указанных координат\n",
        "    output_file_2 = f'script_bot_{i+1:04d}.txt'\n",
        "    updated_report = move_to_coordinates_1(data, output_file_2)\n",
        "\n",
        "# Сохраняем обновленный отчет в новый JSON файл\n",
        "    with open(output_file_2, 'w') as f:\n",
        "        json.dump(updated_report, f)\n",
        ""
      ],
      "metadata": {
        "id": "YzS7srgw78nZ"
      },
      "execution_count": 6,
      "outputs": []
    },
    {
      "cell_type": "code",
      "source": [
        "# Путь к папке, содержащей txt-файлы\n",
        "folder_path = '/content/'  # Замените на ваш путь к папке с файлами\n",
        "\n",
        "# Создаем новый архив с именем 'output_archive.rar'\n",
        "output_archive = 'script_bot_archive_1.rar'\n",
        "\n",
        "# Создаем объект архива\n",
        "with ZipFile(output_archive, 'w') as archive:\n",
        "    # Обходим все txt-файлы в папке и добавляем их в архив\n",
        "    for file_name in os.listdir(folder_path):\n",
        "        if file_name.endswith('.txt'):\n",
        "            file_path = os.path.join(folder_path, file_name)\n",
        "            archive.write(file_path, os.path.basename(file_path))"
      ],
      "metadata": {
        "id": "IyPAX4KlqLPo"
      },
      "execution_count": 5,
      "outputs": []
    }
  ]
}