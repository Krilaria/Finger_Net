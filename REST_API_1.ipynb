{
  "cells": [
    {
      "cell_type": "code",
      "execution_count": null,
      "metadata": {
        "id": "QVRSWqC7bBe1"
      },
      "outputs": [],
      "source": [
        "import requests\n",
        "import json"
      ]
    },
    {
      "cell_type": "code",
      "execution_count": null,
      "metadata": {
        "id": "ATklIrErbCvT"
      },
      "outputs": [],
      "source": [
        "# Помещаем в переменную API_URL адрес API\n",
        "API_URL = \"https://tts.api.cloud.yandex.net/speech/v1/tts:synthesize\"\n",
        "\n",
        "# Помещаем в словарь data данные для отправки в API Yandex.SpeechKit\n",
        "data = {\n",
        "    \"text\": \"Привет! Это пример кода для статьи про API в Skillbox Media\",\n",
        "    \"lang\": \"ru-RU\",\n",
        "    \"speed\": 1,\n",
        "    \"voice\": \"filipp\",\n",
        "    \"emotion\": \"good\"\n",
        "}\n",
        "\n",
        "# Преобразуем данные в строку в формате JSON\n",
        "json_str = json.dumps(data)\n",
        "\n",
        "# Отправляем данные на сервер и получаем ответ\n",
        "answer = requests.post(API_URL, json_str)"
      ]
    },
    {
      "cell_type": "code",
      "execution_count": null,
      "metadata": {
        "colab": {
          "base_uri": "https://localhost:8080/"
        },
        "id": "75vsJs2_bfvc",
        "outputId": "a89a3682-e193-4936-f2bb-21a3c8e74bbd"
      },
      "outputs": [
        {
          "output_type": "execute_result",
          "data": {
            "text/plain": [
              "<Response [401]>"
            ]
          },
          "metadata": {},
          "execution_count": 3
        }
      ],
      "source": [
        "answer"
      ]
    },
    {
      "cell_type": "code",
      "execution_count": null,
      "metadata": {
        "id": "2ULrzJgicVjo"
      },
      "outputs": [],
      "source": [
        "data_1 = {\n",
        "    \"coords\": {\n",
        "        \"0\": {\n",
        "            \"x_left_top\": 67.5,\n",
        "            \"y_left_top\": 1423.5,\n",
        "            \"x_right_bottom\": 110.5,\n",
        "            \"y_right_bottom\": 1463.5,\n",
        "            \"name\": \"delete\"\n",
        "        },\n",
        "        \"1\": {\n",
        "            \"x_left_top\": 65.5,\n",
        "            \"y_left_top\": 1260.5,\n",
        "            \"x_right_bottom\": 124.5,\n",
        "            \"y_right_bottom\": 1304.5,\n",
        "            \"name\": \"add\"\n",
        "        }\n",
        "    }\n",
        "}"
      ]
    },
    {
      "cell_type": "code",
      "execution_count": null,
      "metadata": {
        "colab": {
          "base_uri": "https://localhost:8080/"
        },
        "id": "GhXR323zXMtt",
        "outputId": "330bf241-6543-4d19-b435-a8e31ef5da62"
      },
      "outputs": [
        {
          "output_type": "execute_result",
          "data": {
            "text/plain": [
              "{'coords': {'0': {'x_left_top': 67.5,\n",
              "   'y_left_top': 1423.5,\n",
              "   'x_right_bottom': 110.5,\n",
              "   'y_right_bottom': 1463.5,\n",
              "   'name': 'delete'},\n",
              "  '1': {'x_left_top': 65.5,\n",
              "   'y_left_top': 1260.5,\n",
              "   'x_right_bottom': 124.5,\n",
              "   'y_right_bottom': 1304.5,\n",
              "   'name': 'add'}}}"
            ]
          },
          "metadata": {},
          "execution_count": 5
        }
      ],
      "source": [
        "data_1"
      ]
    },
    {
      "cell_type": "code",
      "execution_count": null,
      "metadata": {
        "id": "_jgoQzKOXSi1"
      },
      "outputs": [],
      "source": [
        "x_left_top = data_1[\"coords\"][\"0\"][\"x_left_top\"]\n",
        "y_left_top = data_1[\"coords\"][\"0\"][\"y_left_top\"]\n",
        "x_right_bottom = data_1[\"coords\"][\"0\"][\"x_right_bottom\"]\n",
        "y_right_bottom = data_1[\"coords\"][\"0\"][\"y_right_bottom\"]"
      ]
    },
    {
      "cell_type": "code",
      "execution_count": null,
      "metadata": {
        "colab": {
          "base_uri": "https://localhost:8080/"
        },
        "id": "X0qc_NJXYS_8",
        "outputId": "4822a8d6-862b-4238-f6a8-4ca259f4e62f"
      },
      "outputs": [
        {
          "output_type": "stream",
          "name": "stdout",
          "text": [
            "89.0 1443.5\n"
          ]
        }
      ],
      "source": [
        "x_center = (x_left_top + x_right_bottom) / 2\n",
        "y_center = (y_left_top + y_right_bottom) / 2\n",
        "print(x_center, y_center)"
      ]
    },
    {
      "cell_type": "markdown",
      "metadata": {
        "id": "rAD5e5bOWlZp"
      },
      "source": [
        "Мы принимаем координаты границ кнопки, а возвращаем скрипт перемещения к этой кнопке.\n"
      ]
    },
    {
      "cell_type": "code",
      "execution_count": null,
      "metadata": {
        "colab": {
          "base_uri": "https://localhost:8080/"
        },
        "id": "ym47GYspnZLo",
        "outputId": "45434d49-3bbc-4cff-ba09-36e6c90bea70"
      },
      "outputs": [
        {
          "output_type": "stream",
          "name": "stdout",
          "text": [
            "Collecting django\n",
            "  Downloading Django-4.2.4-py3-none-any.whl (8.0 MB)\n",
            "\u001b[2K     \u001b[90m━━━━━━━━━━━━━━━━━━━━━━━━━━━━━━━━━━━━━━━━\u001b[0m \u001b[32m8.0/8.0 MB\u001b[0m \u001b[31m16.7 MB/s\u001b[0m eta \u001b[36m0:00:00\u001b[0m\n",
            "\u001b[?25hCollecting asgiref<4,>=3.6.0 (from django)\n",
            "  Downloading asgiref-3.7.2-py3-none-any.whl (24 kB)\n",
            "Requirement already satisfied: sqlparse>=0.3.1 in /usr/local/lib/python3.10/dist-packages (from django) (0.4.4)\n",
            "Requirement already satisfied: typing-extensions>=4 in /usr/local/lib/python3.10/dist-packages (from asgiref<4,>=3.6.0->django) (4.7.1)\n",
            "Installing collected packages: asgiref, django\n",
            "Successfully installed asgiref-3.7.2 django-4.2.4\n"
          ]
        }
      ],
      "source": [
        "!pip install django"
      ]
    },
    {
      "cell_type": "code",
      "source": [
        "sum_app/\n",
        "|-- manage.py\n",
        "|-- sum_app/\n",
        "|   |-- __init__.py\n",
        "|   |-- settings.py\n",
        "|   |-- urls.py\n",
        "|   |-- asgi.py\n",
        "|   |-- wsgi.py\n",
        "|-- web/\n",
        "|   |-- __init__.py\n",
        "|   |-- views.py\n",
        "|   |-- urls.py\n",
        "|-- core/\n",
        "|   |-- __init__.py\n",
        "|   |-- services.py"
      ],
      "metadata": {
        "id": "R5c-TGi-rSiI"
      },
      "execution_count": null,
      "outputs": []
    },
    {
      "cell_type": "code",
      "source": [
        "# структура проекта сервера на 06.08.2023\n",
        "button_app/\n",
        "|-- button_project/\n",
        "|   |-- api/\n",
        "|       |-- migrations/\n",
        "|           |-- __init__.py\n",
        "|       |-- __init__.py\n",
        "|       |-- admin.py\n",
        "|       |-- apps.py\n",
        "|       |-- models.py\n",
        "|       |-- tests.py\n",
        "|       |-- views.py\n",
        "|   |-- button_project/\n",
        "|       |-- __init__.py\n",
        "|       |-- asgi.py\n",
        "|       |-- settings.p\n",
        "|       |-- urls.py\n",
        "|       |-- wsgi.p\n",
        "|   |-- db.sqlite3\n",
        "|   |-- manage.py"
      ],
      "metadata": {
        "id": "1lIznv8hqMRZ"
      },
      "execution_count": null,
      "outputs": []
    },
    {
      "cell_type": "code",
      "source": [
        "# структура проекта сервера на 07.08.2023\n",
        "button_app/\n",
        "|-- core/\n",
        "|   |-- __init__.py\n",
        "|   |-- calculations.py\n",
        "|-- web/\n",
        "|   |-- api/\n",
        "|       |-- migrations/\n",
        "|           |-- __init__.py\n",
        "|       |-- __init__.py\n",
        "|       |-- admin.py\n",
        "|       |-- apps.py\n",
        "|       |-- models.py\n",
        "|       |-- tests.py\n",
        "|   |-- button_project/\n",
        "|       |-- __init__.py\n",
        "|       |-- asgi.py\n",
        "|       |-- urls.py\n",
        "|       |-- views.py\n",
        "|       |-- wsgi.py\n",
        "|   |-- db.sqlite3\n",
        "|   |-- settings.py\n",
        "|   |-- manage.py"
      ],
      "metadata": {
        "id": "TLGg4G3bsXFF"
      },
      "execution_count": null,
      "outputs": []
    },
    {
      "cell_type": "code",
      "execution_count": null,
      "metadata": {
        "id": "q-w8wodqndm3"
      },
      "outputs": [],
      "source": [
        "!django-admin startproject HelloWorld"
      ]
    },
    {
      "cell_type": "code",
      "execution_count": null,
      "metadata": {
        "colab": {
          "base_uri": "https://localhost:8080/"
        },
        "id": "D8cVGr0Eog99",
        "outputId": "61e5e4b6-4e02-4d07-c76c-767c7a409127"
      },
      "outputs": [
        {
          "output_type": "stream",
          "name": "stdout",
          "text": [
            "/content/HelloWorld\n"
          ]
        }
      ],
      "source": [
        "%cd HelloWorld"
      ]
    },
    {
      "cell_type": "code",
      "execution_count": null,
      "metadata": {
        "id": "N6GkbEXCog0x"
      },
      "outputs": [],
      "source": [
        "!python manage.py startapp HelloWorld_App"
      ]
    },
    {
      "cell_type": "code",
      "execution_count": null,
      "metadata": {
        "colab": {
          "base_uri": "https://localhost:8080/"
        },
        "id": "dfaidx5fpAS9",
        "outputId": "781a0dd5-7a40-4fdc-865a-af2ff33dc11e"
      },
      "outputs": [
        {
          "output_type": "stream",
          "name": "stdout",
          "text": [
            "/content/HelloWorld/HelloWorld_App\n"
          ]
        }
      ],
      "source": [
        "%cd HelloWorld_App"
      ]
    },
    {
      "cell_type": "code",
      "execution_count": null,
      "metadata": {
        "colab": {
          "base_uri": "https://localhost:8080/"
        },
        "id": "vSu8Hfa9pAGv",
        "outputId": "28766283-52ef-46d4-f841-d66845742bce"
      },
      "outputs": [
        {
          "output_type": "stream",
          "name": "stdout",
          "text": [
            "Overwriting views.py\n"
          ]
        }
      ],
      "source": [
        "%%writefile views.py\n",
        "from django.http import HttpResponse\n",
        "def index(request):\n",
        "    return HttpResponse(\"HelloWorld!\")"
      ]
    },
    {
      "cell_type": "code",
      "execution_count": null,
      "metadata": {
        "id": "k8Be5HVitCDM",
        "colab": {
          "base_uri": "https://localhost:8080/"
        },
        "outputId": "073a997f-c57a-41e5-87e3-c575e1fee9be"
      },
      "outputs": [
        {
          "output_type": "stream",
          "name": "stdout",
          "text": [
            "\u001b[?25l     \u001b[90m━━━━━━━━━━━━━━━━━━━━━━━━━━━━━━━━━━━━━━━━\u001b[0m \u001b[32m0.0/681.2 kB\u001b[0m \u001b[31m?\u001b[0m eta \u001b[36m-:--:--\u001b[0m\r\u001b[2K     \u001b[91m━━━━\u001b[0m\u001b[91m╸\u001b[0m\u001b[90m━━━━━━━━━━━━━━━━━━━━━━━━━━━━━━━━━━━\u001b[0m \u001b[32m81.9/681.2 kB\u001b[0m \u001b[31m2.3 MB/s\u001b[0m eta \u001b[36m0:00:01\u001b[0m\r\u001b[2K     \u001b[91m━━━━━━━━━━━━━━━━━━━━━━━━━━━━━━━━━━━━━\u001b[0m\u001b[91m╸\u001b[0m \u001b[32m675.8/681.2 kB\u001b[0m \u001b[31m11.7 MB/s\u001b[0m eta \u001b[36m0:00:01\u001b[0m\r\u001b[2K     \u001b[90m━━━━━━━━━━━━━━━━━━━━━━━━━━━━━━━━━━━━━━━\u001b[0m \u001b[32m681.2/681.2 kB\u001b[0m \u001b[31m9.4 MB/s\u001b[0m eta \u001b[36m0:00:00\u001b[0m\n",
            "\u001b[?25h  Preparing metadata (setup.py) ... \u001b[?25l\u001b[?25hdone\n",
            "  Building wheel for pyngrok (setup.py) ... \u001b[?25l\u001b[?25hdone\n"
          ]
        }
      ],
      "source": [
        "!pip install pyngrok --quiet"
      ]
    },
    {
      "cell_type": "code",
      "execution_count": null,
      "metadata": {
        "colab": {
          "base_uri": "https://localhost:8080/"
        },
        "id": "rqFnsSfxtJIR",
        "outputId": "1c384450-5b07-4ae3-e699-1d41c35e4e63"
      },
      "outputs": [
        {
          "output_type": "stream",
          "name": "stdout",
          "text": []
        },
        {
          "output_type": "stream",
          "name": "stderr",
          "text": [
            "WARNING:pyngrok.process.ngrok:t=2023-08-02T06:35:31+0000 lvl=warn msg=\"ngrok config file found at legacy location, move to XDG location\" xdg_path=/root/.config/ngrok/ngrok.yml legacy_path=/root/.ngrok2/ngrok.yml\n"
          ]
        },
        {
          "output_type": "execute_result",
          "data": {
            "text/plain": [
              "<NgrokTunnel: \"https://f639-35-245-34-118.ngrok.io\" -> \"http://localhost:7000\">"
            ]
          },
          "metadata": {},
          "execution_count": 15
        }
      ],
      "source": [
        "from pyngrok import ngrok\n",
        "\n",
        "ngrok.kill()\n",
        "auth_token = \"\"\n",
        "ngrok.set_auth_token(auth_token)\n",
        "\n",
        "ngrok.connect(7000)"
      ]
    },
    {
      "cell_type": "code",
      "execution_count": null,
      "metadata": {
        "colab": {
          "base_uri": "https://localhost:8080/"
        },
        "id": "OXchsj9ktx57",
        "outputId": "052c6aad-7d8c-4373-f87f-8021f1375068"
      },
      "outputs": [
        {
          "output_type": "stream",
          "name": "stdout",
          "text": [
            "/content/HelloWorld\n"
          ]
        }
      ],
      "source": [
        "%cd /content/HelloWorld/"
      ]
    },
    {
      "cell_type": "code",
      "execution_count": null,
      "metadata": {
        "colab": {
          "base_uri": "https://localhost:8080/"
        },
        "id": "22lECYpBt4Nm",
        "outputId": "943fa778-9049-4943-9f54-0c4796f61cd4"
      },
      "outputs": [
        {
          "output_type": "stream",
          "name": "stdout",
          "text": [
            "\u001b[36;1mOperations to perform:\u001b[0m\n",
            "\u001b[1m  Apply all migrations: \u001b[0madmin, auth, contenttypes, sessions\n",
            "\u001b[36;1mRunning migrations:\u001b[0m\n",
            "  Applying contenttypes.0001_initial...\u001b[32;1m OK\u001b[0m\n",
            "  Applying auth.0001_initial...\u001b[32;1m OK\u001b[0m\n",
            "  Applying admin.0001_initial...\u001b[32;1m OK\u001b[0m\n",
            "  Applying admin.0002_logentry_remove_auto_add...\u001b[32;1m OK\u001b[0m\n",
            "  Applying admin.0003_logentry_add_action_flag_choices...\u001b[32;1m OK\u001b[0m\n",
            "  Applying contenttypes.0002_remove_content_type_name...\u001b[32;1m OK\u001b[0m\n",
            "  Applying auth.0002_alter_permission_name_max_length...\u001b[32;1m OK\u001b[0m\n",
            "  Applying auth.0003_alter_user_email_max_length...\u001b[32;1m OK\u001b[0m\n",
            "  Applying auth.0004_alter_user_username_opts...\u001b[32;1m OK\u001b[0m\n",
            "  Applying auth.0005_alter_user_last_login_null...\u001b[32;1m OK\u001b[0m\n",
            "  Applying auth.0006_require_contenttypes_0002...\u001b[32;1m OK\u001b[0m\n",
            "  Applying auth.0007_alter_validators_add_error_messages...\u001b[32;1m OK\u001b[0m\n",
            "  Applying auth.0008_alter_user_username_max_length...\u001b[32;1m OK\u001b[0m\n",
            "  Applying auth.0009_alter_user_last_name_max_length...\u001b[32;1m OK\u001b[0m\n",
            "  Applying auth.0010_alter_group_name_max_length...\u001b[32;1m OK\u001b[0m\n",
            "  Applying auth.0011_update_proxy_permissions...\u001b[32;1m OK\u001b[0m\n",
            "  Applying auth.0012_alter_user_first_name_max_length...\u001b[32;1m OK\u001b[0m\n",
            "  Applying sessions.0001_initial...\u001b[32;1m OK\u001b[0m\n"
          ]
        }
      ],
      "source": [
        "!python manage.py migrate"
      ]
    },
    {
      "cell_type": "code",
      "execution_count": null,
      "metadata": {
        "colab": {
          "base_uri": "https://localhost:8080/"
        },
        "id": "QLFEG8Sht-p5",
        "outputId": "05dfae87-ef4d-4272-b313-e6d99e44b668"
      },
      "outputs": [
        {
          "output_type": "stream",
          "name": "stdout",
          "text": [
            "Watching for file changes with StatReloader\n",
            "Performing system checks...\n",
            "\n",
            "System check identified no issues (0 silenced).\n",
            "August 02, 2023 - 06:35:44\n",
            "Django version 4.2.4, using settings 'HelloWorld.settings'\n",
            "Starting development server at http://127.0.0.1:7000/\n",
            "Quit the server with CONTROL-C.\n",
            "\n"
          ]
        }
      ],
      "source": [
        "!python manage.py runserver 7000"
      ]
    },
    {
      "cell_type": "code",
      "source": [
        "import requests\n",
        "\n",
        "url = \"http://localhost:8000/api/sum/\"\n",
        "params = {\"num1\": 5, \"num2\": 10}\n",
        "\n",
        "response = requests.get(url, params=params)\n",
        "print(response.json())"
      ],
      "metadata": {
        "id": "j6MpPLk8NX_C"
      },
      "execution_count": null,
      "outputs": []
    }
  ],
  "metadata": {
    "colab": {
      "provenance": []
    },
    "kernelspec": {
      "display_name": "Python 3",
      "name": "python3"
    },
    "language_info": {
      "name": "python"
    }
  },
  "nbformat": 4,
  "nbformat_minor": 0
}